{
 "cells": [
  {
   "cell_type": "code",
   "execution_count": 1,
   "id": "b19abfef",
   "metadata": {},
   "outputs": [],
   "source": [
    "import torch"
   ]
  },
  {
   "cell_type": "code",
   "execution_count": 2,
   "id": "552b4f92",
   "metadata": {},
   "outputs": [],
   "source": [
    "import Mydataloader"
   ]
  },
  {
   "cell_type": "code",
   "execution_count": 3,
   "id": "b7a34783",
   "metadata": {},
   "outputs": [],
   "source": [
    "import Mymodel"
   ]
  },
  {
   "cell_type": "code",
   "execution_count": 4,
   "id": "ee7f6820",
   "metadata": {},
   "outputs": [],
   "source": [
    "import losses"
   ]
  },
  {
   "cell_type": "code",
   "execution_count": 5,
   "id": "4932f46f",
   "metadata": {},
   "outputs": [
    {
     "name": "stdout",
     "output_type": "stream",
     "text": [
      "Total training examples: 3000\n"
     ]
    }
   ],
   "source": [
    "path = '/root/Zero-DCE/Zero-DCE_code/data/DepthAndImage/'\n",
    "imagedepthdataset = Mydataloader.ImageDepthLoader(path, path + \"Image/\", path + \"Depth/\")"
   ]
  },
  {
   "cell_type": "code",
   "execution_count": 6,
   "id": "1523fb0d",
   "metadata": {},
   "outputs": [
    {
     "name": "stdout",
     "output_type": "stream",
     "text": [
      "Total training examples: 2024\n",
      "------------------------0 Epoch------------------------\n",
      "torch.Size([8, 3, 256, 256])\n"
     ]
    },
    {
     "ename": "RuntimeError",
     "evalue": "Output 0 of SplitBackward0 is a view and is being modified inplace. This view is the output of a function that returns multiple views. Such functions do not allow the output views to be modified inplace. You should replace the inplace operation by an out-of-place one.",
     "output_type": "error",
     "traceback": [
      "\u001b[0;31m---------------------------------------------------------------------------\u001b[0m",
      "\u001b[0;31mRuntimeError\u001b[0m                              Traceback (most recent call last)",
      "Cell \u001b[0;32mIn[6], line 38\u001b[0m\n\u001b[1;32m     35\u001b[0m input_img \u001b[38;5;241m=\u001b[39m input_img\u001b[38;5;241m.\u001b[39mcuda()\n\u001b[1;32m     36\u001b[0m depth \u001b[38;5;241m=\u001b[39m depth\u001b[38;5;241m.\u001b[39munsqueeze(\u001b[38;5;241m1\u001b[39m)\u001b[38;5;241m.\u001b[39mcuda()\n\u001b[0;32m---> 38\u001b[0m output_img_1, output_img, A  \u001b[38;5;241m=\u001b[39m \u001b[43mDCE_net\u001b[49m\u001b[43m(\u001b[49m\u001b[43minput_img\u001b[49m\u001b[43m,\u001b[49m\u001b[43m \u001b[49m\u001b[43mdepth\u001b[49m\u001b[43m)\u001b[49m\n\u001b[1;32m     40\u001b[0m Loss_TV \u001b[38;5;241m=\u001b[39m \u001b[38;5;241m200\u001b[39m \u001b[38;5;241m*\u001b[39m L_TV(A)\n\u001b[1;32m     42\u001b[0m loss_spa \u001b[38;5;241m=\u001b[39m torch\u001b[38;5;241m.\u001b[39mmean(L_spa(output_img, input_img))\n",
      "File \u001b[0;32m/usr/local/lib/python3.8/dist-packages/torch/nn/modules/module.py:1480\u001b[0m, in \u001b[0;36mModule._call_impl\u001b[0;34m(self, *args, **kwargs)\u001b[0m\n\u001b[1;32m   1475\u001b[0m \u001b[38;5;66;03m# If we don't have any hooks, we want to skip the rest of the logic in\u001b[39;00m\n\u001b[1;32m   1476\u001b[0m \u001b[38;5;66;03m# this function, and just call forward.\u001b[39;00m\n\u001b[1;32m   1477\u001b[0m \u001b[38;5;28;01mif\u001b[39;00m \u001b[38;5;129;01mnot\u001b[39;00m (\u001b[38;5;28mself\u001b[39m\u001b[38;5;241m.\u001b[39m_backward_hooks \u001b[38;5;129;01mor\u001b[39;00m \u001b[38;5;28mself\u001b[39m\u001b[38;5;241m.\u001b[39m_backward_pre_hooks \u001b[38;5;129;01mor\u001b[39;00m \u001b[38;5;28mself\u001b[39m\u001b[38;5;241m.\u001b[39m_forward_hooks \u001b[38;5;129;01mor\u001b[39;00m \u001b[38;5;28mself\u001b[39m\u001b[38;5;241m.\u001b[39m_forward_pre_hooks\n\u001b[1;32m   1478\u001b[0m         \u001b[38;5;129;01mor\u001b[39;00m _global_backward_pre_hooks \u001b[38;5;129;01mor\u001b[39;00m _global_backward_hooks\n\u001b[1;32m   1479\u001b[0m         \u001b[38;5;129;01mor\u001b[39;00m _global_forward_hooks \u001b[38;5;129;01mor\u001b[39;00m _global_forward_pre_hooks):\n\u001b[0;32m-> 1480\u001b[0m     \u001b[38;5;28;01mreturn\u001b[39;00m \u001b[43mforward_call\u001b[49m\u001b[43m(\u001b[49m\u001b[38;5;241;43m*\u001b[39;49m\u001b[43margs\u001b[49m\u001b[43m,\u001b[49m\u001b[43m \u001b[49m\u001b[38;5;241;43m*\u001b[39;49m\u001b[38;5;241;43m*\u001b[39;49m\u001b[43mkwargs\u001b[49m\u001b[43m)\u001b[49m\n\u001b[1;32m   1481\u001b[0m \u001b[38;5;66;03m# Do not call functions when jit is used\u001b[39;00m\n\u001b[1;32m   1482\u001b[0m full_backward_hooks, non_full_backward_hooks \u001b[38;5;241m=\u001b[39m [], []\n",
      "File \u001b[0;32m~/Zero-DCE/Zero-DCE_code/NewModel/Mymodel.py:46\u001b[0m, in \u001b[0;36menhance_net.forward\u001b[0;34m(self, x, d)\u001b[0m\n\u001b[1;32m     44\u001b[0m mask \u001b[38;5;241m=\u001b[39m torch\u001b[38;5;241m.\u001b[39mexp(\u001b[38;5;241m-\u001b[39md \u001b[38;5;241m*\u001b[39m \u001b[38;5;241m0.15\u001b[39m)\n\u001b[1;32m     45\u001b[0m mask \u001b[38;5;241m=\u001b[39m mask\u001b[38;5;241m.\u001b[39msqueeze(\u001b[38;5;241m1\u001b[39m)\n\u001b[0;32m---> 46\u001b[0m r1 \u001b[38;5;241m*\u001b[39m\u001b[38;5;241m=\u001b[39m mask\n\u001b[1;32m     47\u001b[0m r2 \u001b[38;5;241m*\u001b[39m\u001b[38;5;241m=\u001b[39m mask\n\u001b[1;32m     48\u001b[0m r3 \u001b[38;5;241m*\u001b[39m\u001b[38;5;241m=\u001b[39m mask\n",
      "\u001b[0;31mRuntimeError\u001b[0m: Output 0 of SplitBackward0 is a view and is being modified inplace. This view is the output of a function that returns multiple views. Such functions do not allow the output views to be modified inplace. You should replace the inplace operation by an out-of-place one."
     ]
    }
   ],
   "source": [
    "def weights_init(m):\n",
    "    classname = m.__class__.__name__\n",
    "    if classname.find('Conv') != -1:\n",
    "        m.weight.data.normal_(0.0, 0.02)\n",
    "    elif classname.find('BatchNorm') != -1:\n",
    "        m.weight.data.normal_(1.0, 0.02)\n",
    "        m.bias.data.fill_(0)\n",
    "\n",
    "\n",
    "epochs = 100\n",
    "        \n",
    "DCE_net = Mymodel.enhance_net().cuda()\n",
    "DCE_net.apply(weights_init)\n",
    "\n",
    "train_dataset = Mydataloader.ImageDepthLoader(path, path + \"Image/\", path + \"Depth/\", 2024)\n",
    "train_loader = torch.utils.data.DataLoader(train_dataset, batch_size=8, shuffle=True, num_workers=4, pin_memory=True)\n",
    "\n",
    "\n",
    "optimizer = torch.optim.Adam(DCE_net.parameters(), lr=0.0001, weight_decay=0.0001)\n",
    "\n",
    "DCE_net.train()\n",
    "\n",
    "L_color = losses.L_color()\n",
    "L_spa = losses.L_spa()\n",
    "L_exp = losses.L_exp(16,0.5)\n",
    "L_TV = losses.L_TV()\n",
    "L_power = losses.L_power(0.8)\n",
    "L_Depth = losses.L_Depth(0.8)\n",
    "L_color_frac = losses.L_color_frac(11)\n",
    "c = 1e-5\n",
    "\n",
    "for epoch in range(epochs):\n",
    "    print(f\"------------------------{epoch} Epoch------------------------\")\n",
    "    for iteration, (input_img, depth) in enumerate(train_loader):\n",
    "        input_img = input_img.cuda()\n",
    "        depth = depth.unsqueeze(1).cuda()\n",
    "\n",
    "        output_img_1, output_img, A  = DCE_net(input_img, depth)\n",
    "        \n",
    "        Loss_TV = 200 * L_TV(A)\n",
    "\n",
    "        loss_spa = torch.mean(L_spa(output_img, input_img))\n",
    "\n",
    "        loss_col = 15 * torch.mean(L_color(output_img))\n",
    "        loss_col_frac = 15 * L_color_frac(input_img, output_img)\n",
    "        \n",
    "        loss_exp = 10*torch.mean(L_exp(output_img))\n",
    "        loss_power = 5 * torch.mean(L_power(input_img, output_img))\n",
    "        \n",
    "        loss_depth = c * L_Depth(output_img, depth)\n",
    "        \n",
    "        # best_loss\n",
    "        loss =  Loss_TV + loss_spa + loss_col + loss_exp + loss_power + loss_col_frac + loss_depth\n",
    "        \n",
    "torch.save(DCE_net.state_dict(), f\"snapshots/Depth{c}{epoch + 1}.pth\")\n",
    "        "
   ]
  },
  {
   "cell_type": "code",
   "execution_count": null,
   "id": "41d705d1",
   "metadata": {},
   "outputs": [],
   "source": []
  }
 ],
 "metadata": {
  "kernelspec": {
   "display_name": "Python 3 (ipykernel)",
   "language": "python",
   "name": "python3"
  },
  "language_info": {
   "codemirror_mode": {
    "name": "ipython",
    "version": 3
   },
   "file_extension": ".py",
   "mimetype": "text/x-python",
   "name": "python",
   "nbconvert_exporter": "python",
   "pygments_lexer": "ipython3",
   "version": "3.8.10"
  }
 },
 "nbformat": 4,
 "nbformat_minor": 5
}
